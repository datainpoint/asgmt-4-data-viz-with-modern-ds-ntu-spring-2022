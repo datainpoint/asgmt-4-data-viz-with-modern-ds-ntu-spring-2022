{
 "cells": [
  {
   "cell_type": "markdown",
   "metadata": {
    "deletable": false
   },
   "source": [
    "# Data Visualization with Modern Data Science\n",
    "\n",
    "> Assignment 4\n",
    "\n",
    "Yao-Jen Kuo <yaojenkuo@ntu.edu.tw> from [DATAINPOINT](https://www.datainpoint.com)"
   ]
  },
  {
   "cell_type": "markdown",
   "metadata": {
    "deletable": false
   },
   "source": [
    "## Instructions\n",
    "\n",
    "- Due to reduced capacity of mybinder.org, we use Google Colab instead.\n",
    "- Save a copy for consistency by clicking the `Copy to Drive` button.\n",
    "- If you accidentally delete some of the cells, just re-click the assignment link again for the original notebook.\n",
    "- Write down your solution between comments `-- BEGIN SOLUTION` and `-- END SOLUTION`.\n",
    "- Running tests to see if your solutions are right:\n",
    "    - Connect.\n",
    "    - Runtime -> Restart and run all -> Yes -> Run anyway.\n",
    "    - Scroll down to the bottom of notebook to see the test result.\n",
    "- When you are ready to submit, click File -> Download .py.\n",
    "- Rename the exported Python script with your student ID(e.g. `b01234567.py`) and upload to the Assignment session on NTU COOL."
   ]
  },
  {
   "cell_type": "code",
   "execution_count": null,
   "metadata": {},
   "outputs": [],
   "source": [
    "from typing import Union\n",
    "import unittest"
   ]
  },
  {
   "cell_type": "markdown",
   "metadata": {},
   "source": [
    "## 01. Define a Python function named `check_data_type(x)` which returns the data type of `x` in a string format.\n",
    "\n",
    "- Expected inputs: an unknown data type of `x`.\n",
    "- Expected outputs: `str`."
   ]
  },
  {
   "cell_type": "code",
   "execution_count": null,
   "metadata": {},
   "outputs": [],
   "source": [
    "def check_data_type(x) -> str:\n",
    "    \"\"\"\n",
    "    >>> check_data_type(1)\n",
    "    'int'\n",
    "    >>> check_data_type(1.0)\n",
    "    'float'\n",
    "    >>> check_data_type(False)\n",
    "    'bool'\n",
    "    >>> check_data_type(True)\n",
    "    'bool'\n",
    "    >>> check_data_type('5566')\n",
    "    'str'\n",
    "    >>> check_data_type(None)\n",
    "    'NoneType'\n",
    "    \"\"\"\n",
    "    ### BEGIN SOLUTION\n",
    "    \n",
    "    ### END SOLUTION"
   ]
  },
  {
   "cell_type": "markdown",
   "metadata": {},
   "source": [
    "## 02. Define a Python function named `check_data_structure(x)` which returns the data structure of `x` in a string format.\n",
    "\n",
    "- Expected inputs: an unknown data structure of `x`.\n",
    "- Expected outputs: `str`."
   ]
  },
  {
   "cell_type": "code",
   "execution_count": null,
   "metadata": {},
   "outputs": [],
   "source": [
    "def check_data_structure(x) -> str:\n",
    "    \"\"\"\n",
    "    >>> check_data_structure([2, 3, 5, 7, 11])\n",
    "    'list'\n",
    "    >>> check_data_structure((2, 3, 5, 7, 11))\n",
    "    'tuple'\n",
    "    >>> check_data_structure({'0': 2, '1': 3, '2': 5, '3': 7, '4': 11})\n",
    "    'dict'\n",
    "    >>> check_data_structure({2, 3, 5, 7, 11})\n",
    "    'set'\n",
    "    \"\"\"\n",
    "    ### BEGIN SOLUTION\n",
    "    \n",
    "    ### END SOLUTION"
   ]
  },
  {
   "cell_type": "markdown",
   "metadata": {},
   "source": [
    "## 03. Define a Python function named `retrieve_the_middle_elements(x)` which returns the middle elements of a given `list`. \n",
    "\n",
    "- Expected inputs: `list`.\n",
    "- Expected outputs: `int`/`tuple`."
   ]
  },
  {
   "cell_type": "code",
   "execution_count": null,
   "metadata": {},
   "outputs": [],
   "source": [
    "def retrieve_the_middle_elements(x: list) -> Union[int, tuple]:\n",
    "    \"\"\"\n",
    "    >>> retrieve_the_middle_elements([2, 3, 5])\n",
    "    3\n",
    "    >>> retrieve_the_middle_elements([2, 3, 5, 7])\n",
    "    (3, 5)\n",
    "    >>> retrieve_the_middle_elements([2, 3, 5, 7, 11])\n",
    "    5\n",
    "    >>> retrieve_the_middle_elements([2, 3, 5, 7, 11, 13])\n",
    "    (5, 7)\n",
    "    \"\"\"\n",
    "    ### BEGIN SOLUTION\n",
    "    \n",
    "    ### END SOLUTION"
   ]
  },
  {
   "cell_type": "markdown",
   "metadata": {},
   "source": [
    "## 04. Define a function named `median(x)` which returns the median value of a given list.\n",
    "\n",
    "Source: <https://en.wikipedia.org/wiki/Median>\n",
    "\n",
    "- Expected inputs: `list`\n",
    "- Expected outputs: `int`/`float`"
   ]
  },
  {
   "cell_type": "code",
   "execution_count": null,
   "metadata": {},
   "outputs": [],
   "source": [
    "def median(x: list) -> Union[int, float]:\n",
    "    \"\"\"\n",
    "    >>> median([2, 3, 5, 7, 11])\n",
    "    5\n",
    "    >>> median([2, 3, 5, 7, 11, 13])\n",
    "    6.0\n",
    "    >>> median([11, 13, 17, 2, 3, 5, 7])\n",
    "    7\n",
    "    >>> median([7, 11, 13, 17, 19, 2, 3, 5])\n",
    "    9.0\n",
    "    \"\"\"\n",
    "    ### BEGIN SOLUTION\n",
    "    \n",
    "    ### END SOLUTION"
   ]
  },
  {
   "cell_type": "markdown",
   "metadata": {},
   "source": [
    "## 05. Define a Python function named `list_first_n_fizz_buzz(n)` which returns the first `n` FizzBuzz numbers in a `list`.\n",
    "\n",
    "<https://en.wikipedia.org/wiki/Fizz_buzz>\n",
    "\n",
    "- Expected inputs: `int`.\n",
    "- Expected outputs: `list`."
   ]
  },
  {
   "cell_type": "code",
   "execution_count": null,
   "metadata": {},
   "outputs": [],
   "source": [
    "def list_first_n_fizz_buzz(n: int) -> list:\n",
    "    \"\"\"\n",
    "    >>> list_first_n_fizz_buzz(4)\n",
    "    ['Fizz Buzz', 1, 2, 'Fizz']\n",
    "    >>> list_first_n_fizz_buzz(6)\n",
    "    ['Fizz Buzz', 1, 2, 'Fizz', 4, 'Buzz']\n",
    "    >>> list_first_n_fizz_buzz(16)\n",
    "    ['Fizz Buzz', 1, 2, 'Fizz', 4, 'Buzz', 'Fizz', 7, 8, 'Fizz', 'Buzz', 11, 'Fizz', 13, 14, 'Fizz Buzz']\n",
    "    \"\"\"\n",
    "    ### BEGIN SOLUTION\n",
    "    \n",
    "    ### END SOLUTION"
   ]
  },
  {
   "cell_type": "markdown",
   "metadata": {},
   "source": [
    "## 06. Define a Python function named `collect_divisors(x)` which returns all positive divisors of a given `int`.\n",
    "\n",
    "Source: <https://en.wikipedia.org/wiki/Divisor>\n",
    "\n",
    "- Expected inputs: `int`.\n",
    "- Expected outputs: `set`."
   ]
  },
  {
   "cell_type": "code",
   "execution_count": null,
   "metadata": {},
   "outputs": [],
   "source": [
    "def collect_divisors(x: int) -> set:\n",
    "    \"\"\"\n",
    "    >>> collect_divisors(1)\n",
    "    {1}\n",
    "    >>> collect_divisors(2)\n",
    "    {1, 2}\n",
    "    >>> collect_divisors(3)\n",
    "    {1, 3}\n",
    "    >>> collect_divisors(4)\n",
    "    {1, 2, 4}\n",
    "    >>> collect_divisors(5)\n",
    "    {1, 5}\n",
    "    \"\"\"\n",
    "    ### BEGIN SOLUTION\n",
    "    \n",
    "    ### END SOLUTION"
   ]
  },
  {
   "cell_type": "markdown",
   "metadata": {},
   "source": [
    "## 07. Define a Python function named `collect_common_divisors(x, y)` which returns all positive common divisors given 2 integers `x` and `y`. You may use the previously defined `collect_divisors()` function to solve this one.\n",
    "\n",
    "- Expected inputs: `int`.\n",
    "- Expected outputs: `set`."
   ]
  },
  {
   "cell_type": "code",
   "execution_count": null,
   "metadata": {},
   "outputs": [],
   "source": [
    "def collect_common_divisors(x: int, y: int) -> set:\n",
    "    \"\"\"\n",
    "    >>> collect_common_divisors(2, 4)\n",
    "    {1, 2}\n",
    "    >>> collect_common_divisors(5, 7)\n",
    "    {1}\n",
    "    >>> collect_common_divisors(9, 27)\n",
    "    {1, 3, 9}\n",
    "    >>> collect_common_divisors(11, 13)\n",
    "    {1}\n",
    "    \"\"\"\n",
    "    ### BEGIN SOLUTION\n",
    "    \n",
    "    ### END SOLUTION"
   ]
  },
  {
   "cell_type": "markdown",
   "metadata": {},
   "source": [
    "## 08. Define a Python function named `is_prime_number(x)` which returns whether `x` is a prime number or not. You may use the previously defined `collect_divisors()` function to solve this one.\n",
    "\n",
    "Source: <https://en.wikipedia.org/wiki/Prime_number>\n",
    "\n",
    "- Expected inputs: `int`\n",
    "- Expected outputs: `bool`"
   ]
  },
  {
   "cell_type": "code",
   "execution_count": null,
   "metadata": {},
   "outputs": [],
   "source": [
    "def is_prime_number(x: int) -> bool:\n",
    "    \"\"\"\n",
    "    >>> is_prime_number(1)\n",
    "    False\n",
    "    >>> is_prime_number(2)\n",
    "    True\n",
    "    >>> is_prime_number(3)\n",
    "    True\n",
    "    >>> is_prime_number(4)\n",
    "    False\n",
    "    >>> is_prime_number(5)\n",
    "    True\n",
    "    \"\"\"\n",
    "    ### BEGIN SOLUTION\n",
    "    \n",
    "    ### END SOLUTION"
   ]
  },
  {
   "cell_type": "markdown",
   "metadata": {},
   "source": [
    "## 09. Define a Python function named `list_first_n_prime_numbers(x)` which returns the first n prime numbers in a list. You may use the previously defined `is_prime_number()` function to solve this one.\n",
    "\n",
    "- Expected inputs: `int`\n",
    "- Expected outputs: `list`"
   ]
  },
  {
   "cell_type": "code",
   "execution_count": null,
   "metadata": {},
   "outputs": [],
   "source": [
    "def list_first_n_prime_numbers(n: int) -> list:\n",
    "    \"\"\"\n",
    "    >>> list_first_n_prime_numbers(5)\n",
    "    [2, 3, 5, 7, 11]\n",
    "    >>> list_first_n_prime_numbers(10)\n",
    "    [2, 3, 5, 7, 11, 13, 17, 19, 23, 29]\n",
    "    >>> list_first_n_prime_numbers(30)\n",
    "    [2, 3, 5, 7, 11, 13, 17, 19, 23, 29, 31, 37, 41, 43, 47, 53, 59, 61, 67, 71, 73, 79, 83, 89, 97, 101, 103, 107, 109, 113]\n",
    "    \"\"\"\n",
    "    ### BEGIN SOLUTION\n",
    "    \n",
    "    ### END SOLUTION"
   ]
  },
  {
   "cell_type": "markdown",
   "metadata": {},
   "source": [
    "## 10. Define a Python function named `swap_vowels_case(x)` which converts the vowels in a word from upper-cased to lower-cased, and from lower-cased to upper-cased, respectively.\n",
    "\n",
    "- Expected inputs: `str`\n",
    "- Expected outputs: `str`"
   ]
  },
  {
   "cell_type": "code",
   "execution_count": null,
   "metadata": {},
   "outputs": [],
   "source": [
    "def swap_vowels_case(x: str) -> str:\n",
    "    \"\"\"\n",
    "    >>> swap_vowels_case('Luke Skywalker')\n",
    "    'LUkE SkywAlkEr'\n",
    "    >>> swap_vowels_case('Darth Vader')\n",
    "    'DArth VAdEr'\n",
    "    >>> swap_vowels_case('Anakin Skywalker')\n",
    "    'anAkIn SkywAlkEr'\n",
    "    \"\"\"\n",
    "    ### BEGIN SOLUTION\n",
    "    \n",
    "    ### END SOLUTION"
   ]
  },
  {
   "cell_type": "markdown",
   "metadata": {
    "deletable": false,
    "editable": false
   },
   "source": [
    "## End of assignment, ignore the following cells."
   ]
  },
  {
   "cell_type": "code",
   "execution_count": null,
   "metadata": {},
   "outputs": [],
   "source": [
    "class TestAssignmentFour(unittest.TestCase):\n",
    "    def test_01_check_data_type(self):\n",
    "        self.assertEqual(check_data_type(1), 'int')\n",
    "        self.assertEqual(check_data_type(1.0), 'float')\n",
    "        self.assertEqual(check_data_type(False), 'bool')\n",
    "        self.assertEqual(check_data_type(True), 'bool')\n",
    "        self.assertEqual(check_data_type('5566'), 'str')\n",
    "        self.assertEqual(check_data_type(None), 'NoneType')\n",
    "    def test_02_check_data_structure(self):\n",
    "        self.assertEqual(check_data_structure([2, 3, 5, 7, 11]), 'list')\n",
    "        self.assertEqual(check_data_structure((2, 3, 5, 7, 11)), 'tuple')\n",
    "        self.assertEqual(check_data_structure({'0': 2, '1': 3, '2': 5, '3': 7, '4': 11}), 'dict')\n",
    "        self.assertEqual(check_data_structure({2, 3, 5, 7, 11}), 'set')\n",
    "    def test_03_retrieve_the_middle_elements(self):\n",
    "        self.assertEqual(retrieve_the_middle_elements([2, 3, 5]), 3)\n",
    "        self.assertEqual(retrieve_the_middle_elements([2, 3, 5, 7]), (3, 5))\n",
    "        self.assertEqual(retrieve_the_middle_elements([2, 3, 5, 7, 11]), 5)\n",
    "        self.assertEqual(retrieve_the_middle_elements([2, 3, 5, 7, 11, 13]), (5, 7))\n",
    "    def test_04_median(self):\n",
    "        self.assertEqual(median([2, 3, 5, 7, 11]), 5)\n",
    "        self.assertEqual(median([2, 3, 5, 7, 11, 13]), 6.0)\n",
    "        self.assertEqual(median([11, 13, 17, 2, 3, 5, 7]), 7)\n",
    "        self.assertEqual(median([7, 11, 13, 17, 19, 2, 3, 5]), 9.0)\n",
    "    def test_05_list_first_n_fizz_buzz(self):\n",
    "        self.assertEqual(list_first_n_fizz_buzz(4), ['Fizz Buzz', 1, 2, 'Fizz'])\n",
    "        self.assertEqual(list_first_n_fizz_buzz(6), ['Fizz Buzz', 1, 2, 'Fizz', 4, 'Buzz'])\n",
    "        self.assertEqual(list_first_n_fizz_buzz(16), ['Fizz Buzz', 1, 2, 'Fizz', 4, 'Buzz', 'Fizz', 7, 8, 'Fizz', 'Buzz', 11, 'Fizz', 13, 14, 'Fizz Buzz'])\n",
    "    def test_06_collect_divisors(self):\n",
    "        self.assertEqual(collect_divisors(1), {1})\n",
    "        self.assertEqual(collect_divisors(2), {1, 2})\n",
    "        self.assertEqual(collect_divisors(3), {1, 3})\n",
    "        self.assertEqual(collect_divisors(4), {1, 2, 4})\n",
    "        self.assertEqual(collect_divisors(5), {1, 5})\n",
    "    def test_07_collect_common_divisors(self):\n",
    "        self.assertEqual(collect_common_divisors(2, 4), {1, 2})\n",
    "        self.assertEqual(collect_common_divisors(5, 7), {1})\n",
    "        self.assertEqual(collect_common_divisors(9, 27), {1, 3, 9})\n",
    "        self.assertEqual(collect_common_divisors(11, 13), {1})\n",
    "    def test_08_is_prime_number(self):\n",
    "        self.assertFalse(is_prime_number(1))\n",
    "        self.assertFalse(is_prime_number(4))\n",
    "        self.assertTrue(is_prime_number(2))\n",
    "        self.assertTrue(is_prime_number(3))\n",
    "        self.assertTrue(is_prime_number(5))\n",
    "    def test_09_list_first_n_prime_numbers(self):\n",
    "        self.assertEqual(list_first_n_prime_numbers(5), [2, 3, 5, 7, 11])\n",
    "        self.assertEqual(list_first_n_prime_numbers(10), [2, 3, 5, 7, 11, 13, 17, 19, 23, 29])\n",
    "        self.assertEqual(list_first_n_prime_numbers(30), [2, 3, 5, 7, 11, 13, 17, 19, 23, 29, 31, 37, 41, 43, 47, 53, 59, 61, 67, 71, 73, 79, 83, 89, 97, 101, 103, 107, 109, 113])\n",
    "    def test_10_swap_vowels_case(self):\n",
    "        self.assertEqual(swap_vowels_case('Luke Skywalker'), 'LUkE SkywAlkEr')\n",
    "        self.assertEqual(swap_vowels_case('Anakin Skywalker'), 'anAkIn SkywAlkEr')\n",
    "        self.assertEqual(swap_vowels_case('Darth Vader'), 'DArth VAdEr')\n",
    "        \n",
    "suite = unittest.TestLoader().loadTestsFromTestCase(TestAssignmentFour)\n",
    "runner = unittest.TextTestRunner(verbosity=2)\n",
    "test_results = runner.run(suite)\n",
    "number_of_failures = len(test_results.failures)\n",
    "number_of_errors = len(test_results.errors)\n",
    "number_of_test_runs = test_results.testsRun\n",
    "number_of_successes = number_of_test_runs - (number_of_failures + number_of_errors)"
   ]
  },
  {
   "cell_type": "code",
   "execution_count": null,
   "metadata": {},
   "outputs": [],
   "source": [
    "print(\"You've got {} successes among {} questions.\".format(number_of_successes, number_of_test_runs))"
   ]
  }
 ],
 "metadata": {
  "kernelspec": {
   "display_name": "Python 3.9",
   "language": "python",
   "name": "python39"
  },
  "language_info": {
   "codemirror_mode": {
    "name": "ipython",
    "version": 3
   },
   "file_extension": ".py",
   "mimetype": "text/x-python",
   "name": "python",
   "nbconvert_exporter": "python",
   "pygments_lexer": "ipython3",
   "version": "3.9.7"
  }
 },
 "nbformat": 4,
 "nbformat_minor": 4
}
